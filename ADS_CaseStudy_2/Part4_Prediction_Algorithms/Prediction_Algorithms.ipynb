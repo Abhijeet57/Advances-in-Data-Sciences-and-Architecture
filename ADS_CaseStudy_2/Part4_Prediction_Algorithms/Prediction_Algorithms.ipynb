{
 "cells": [
  {
   "cell_type": "markdown",
   "metadata": {},
   "source": [
    "# Energy Dataset Prediction Algorithms"
   ]
  },
  {
   "cell_type": "code",
   "execution_count": null,
   "metadata": {
    "collapsed": true
   },
   "outputs": [],
   "source": [
    "import pandas as pd\n",
    "import numpy as np\n",
    "import seaborn as sns\n",
    "import matplotlib.pyplot as plt\n",
    "from sklearn.model_selection import train_test_split\n",
    "%matplotlib inline"
   ]
  },
  {
   "cell_type": "code",
   "execution_count": null,
   "metadata": {},
   "outputs": [],
   "source": [
    "df_loaded = pd.read_csv(\"../Part3_Feature_Engineering/energydata_complete_transformed.csv\")\n",
    "df = df_loaded\n",
    "\n",
    "# Creating Metrics Dataframe\n",
    "metrics_df = pd.DataFrame(index = ['RSquared_train', 'RSquared_test', 'RMS_train', 'RMS_test', 'MAE_train', 'MAE_test', 'MAPE_train', 'MAPE_test'])"
   ]
  },
  {
   "cell_type": "markdown",
   "metadata": {},
   "source": [
    "## Dividing Data into Training and Testing"
   ]
  },
  {
   "cell_type": "code",
   "execution_count": null,
   "metadata": {
    "collapsed": true
   },
   "outputs": [],
   "source": [
    "X = df.drop(['Appliances'],axis=1)\n",
    "y = df['Appliances']\n",
    "\n",
    "X_train, X_test, y_train, y_test = train_test_split(X, y, test_size = 0.2)"
   ]
  },
  {
   "cell_type": "code",
   "execution_count": null,
   "metadata": {},
   "outputs": [],
   "source": [
    "# Function to print metrics\n",
    "def print_training_metrics(**kwargs):\n",
    "    for name, value in kwargs.items():\n",
    "        value = float(\"{0:.2f}\".format(value))\n",
    "        print('{0} for Training Dataset is: {1}'.format(name, value))\n",
    "def print_testing_metrics(**kwargs):\n",
    "    for name, value in kwargs.items():\n",
    "        value = float(\"{0:.2f}\".format(value))\n",
    "        print('{0} for Testing Dataset is: {1}'.format(name, value))\n",
    "\n",
    "# Function to print and add metrics to dataframe\n",
    "def print_metrics(df, model, r2_train, rms_train, mae_train, mape_train, r2_test, rms_test, mae_test, mape_test):\n",
    "    #print('R Squared for Training Data:',float(\"{0:.2f}\".format(r2_train)))\n",
    "    #print('R Squared for Testing Data:',float(\"{0:.2f}\".format(r2_test)))\n",
    "    #print('RMS for Training Data:',float(\"{0:.2f}\".format(rms_train)))\n",
    "    #print('RMS for Testing Data:',float(\"{0:.2f}\".format(rms_test)))\n",
    "    #print('MAE for Training Data:',float(\"{0:.2f}\".format(mae_train)))\n",
    "    #print('MAE for Testing Data:',float(\"{0:.2f}\".format(mae_test)))\n",
    "    #print('MAPE for Training Data:',float(\"{0:.2f}\".format(mape_train)))\n",
    "    #print('MAPE for Testing Data:',float(\"{0:.2f}\".format(mape_test)))\n",
    "    df[model] = [float(\"{0:.2f}\".format(r2_train)), float(\"{0:.2f}\".format(r2_test)),\n",
    "                 float(\"{0:.2f}\".format(rms_train)), float(\"{0:.2f}\".format(rms_test)),\n",
    "                 float(\"{0:.2f}\".format(mae_train)), float(\"{0:.2f}\".format(mae_test)),\n",
    "                 float(\"{0:.2f}\".format(mape_train)), float(\"{0:.2f}\".format(mape_test))]\n",
    "    return df"
   ]
  },
  {
   "cell_type": "markdown",
   "metadata": {},
   "source": [
    "### Linear Regression Model"
   ]
  },
  {
   "cell_type": "code",
   "execution_count": null,
   "metadata": {},
   "outputs": [],
   "source": [
    "from sklearn.linear_model import LinearRegression\n",
    "from sklearn.metrics import mean_squared_error\n",
    "from sklearn.metrics import r2_score\n",
    "from math import sqrt\n",
    "from sklearn.metrics import mean_absolute_error\n",
    "\n",
    "lr = LinearRegression()\n",
    "lr.fit(X_train,y_train)\n",
    "\n",
    "# Predicting and Calculating the Metrices for Prediction of Testing Dataset\n",
    "prediction_test_lr = lr.predict(X_test)\n",
    "\n",
    "r2_test_lr = r2_score(y_test, prediction_test_lr)\n",
    "rms_test_lr = sqrt(mean_squared_error(y_test, prediction_test_lr))\n",
    "mae_test_lr = mean_absolute_error(y_test,prediction_test_lr)\n",
    "mape_test_lr = np.mean(np.abs((y_test - prediction_test_lr) / y_test)) * 100\n",
    "\n",
    "# Predicting and Calculating the Metrices for Prediction of Training Dataset\n",
    "prediction_train_lr = lr.predict(X_train)\n",
    "\n",
    "r2_train_lr = r2_score(y_train, prediction_train_lr)\n",
    "rms_train_lr = sqrt(mean_squared_error(y_train, prediction_train_lr))\n",
    "mae_train_lr = mean_absolute_error(y_train,prediction_train_lr)\n",
    "mape_train_lr = np.mean(np.abs((y_train - prediction_train_lr) / y_train)) * 100\n",
    "\n",
    "# Printing the training and testing metrices\n",
    "metrics_df = print_metrics(metrics_df, 'LR_Model', r2_train_lr, rms_train_lr, mae_train_lr, mape_train_lr, r2_test_lr, rms_test_lr, mae_test_lr, mape_test_lr)\n",
    "metrics_df"
   ]
  },
  {
   "cell_type": "markdown",
   "metadata": {},
   "source": [
    "### Random Forest Model"
   ]
  },
  {
   "cell_type": "code",
   "execution_count": null,
   "metadata": {
    "collapsed": true
   },
   "outputs": [],
   "source": [
    "from sklearn.ensemble import RandomForestRegressor\n",
    "\n",
    "rf = RandomForestRegressor(n_estimators = 500)\n",
    "rf.fit(X_train, y_train)\n",
    "\n",
    "# Predicting and Calculating the Metrices for Prediction of Testing Dataset\n",
    "prediction_test_rf = rf.predict(X_test)\n",
    "r2_test_rf = r2_score(y_test, prediction_test_rf)\n",
    "rms_test_rf = sqrt(mean_squared_error(y_test, prediction_test_rf))\n",
    "mae_test_rf = mean_absolute_error(y_test,prediction_test_rf)\n",
    "mape_test_rf = np.mean(np.abs((y_test - prediction_test_rf) / y_test)) * 100\n",
    "\n",
    "# Predicting and Calculating the Metrices for Prediction of Training Dataset\n",
    "prediction_train_rf = rf.predict(X_train)\n",
    "r2_train_rf = r2_score(y_train, prediction_train_rf)\n",
    "rms_train_rf = sqrt(mean_squared_error(y_train, prediction_train_rf))\n",
    "mae_train_rf = mean_absolute_error(y_train,prediction_train_rf)\n",
    "mape_train_rf = np.mean(np.abs((y_train - prediction_train_rf) / y_train)) * 100\n",
    "\n",
    "# Printing the training and testing metrices\n",
    "print('Random Forest Model\\n')\n",
    "metrics_df = print_metrics(metrics_df, 'RF_Model', r2_train_rf, rms_train_rf, mae_train_rf, mape_train_rf, r2_test_rf, rms_test_rf, mae_test_rf, mape_test_rf)\n",
    "metrics_df"
   ]
  },
  {
   "cell_type": "markdown",
   "metadata": {},
   "source": [
    "### Neural Network Model"
   ]
  },
  {
   "cell_type": "code",
   "execution_count": null,
   "metadata": {
    "collapsed": true
   },
   "outputs": [],
   "source": [
    "# Import Multi-Layer Perceptron Classifier Model\n",
    "from sklearn.neural_network import MLPClassifier\n",
    "\n",
    "mlp = MLPClassifier(hidden_layer_sizes=(37,37,37))\n",
    "mlp.fit(X_train,y_train)\n",
    "\n",
    "# Predicting and Calculating the Metrices for Prediction of Testing Dataset\n",
    "prediction_test_nn = mlp.predict(X_test)\n",
    "r2_test_nn = r2_score(y_test, prediction_test_nn)\n",
    "rms_test_nn = sqrt(mean_squared_error(y_test, prediction_test_nn))\n",
    "mae_test_nn = mean_absolute_error(y_test,prediction_test_nn)\n",
    "mape_test_nn = np.mean(np.abs((y_test - prediction_test_nn) / y_test)) * 100\n",
    "\n",
    "# Predicting and Calculating the Metrices for Prediction of Training Dataset\n",
    "prediction_train_nn = mlp.predict(X_train)\n",
    "r2_train_nn = r2_score(y_train, prediction_train_nn)\n",
    "rms_train_nn = sqrt(mean_squared_error(y_train, prediction_train_nn))\n",
    "mae_train_nn = mean_absolute_error(y_train,prediction_train_nn)\n",
    "mape_train_nn = np.mean(np.abs((y_train - prediction_train_nn) / y_train)) * 100\n",
    "\n",
    "# Printing the training and testing metrices\n",
    "print('Neural Network Model')\n",
    "metrics_df = print_metrics(metrics_df, 'NN_Model', r2_train_nn, rms_train_nn, mae_train_nn, mape_train_nn, r2_test_nn, rms_test_nn, mae_test_nn, mape_test_nn)\n",
    "metrics_df"
   ]
  },
  {
   "cell_type": "markdown",
   "metadata": {},
   "source": [
    "**Chosen Model Fits Worse**\n",
    "   * R2 compares the fit of the chosen model with that of a horizontal straight line (the null hypothesis). If the chosen model fits worse than a horizontal line, then R2 is negative. Therefore, Neural Network is not a suitable predictive model."
   ]
  }
 ],
 "metadata": {
  "kernelspec": {
   "display_name": "Python 3",
   "language": "python",
   "name": "python3"
  },
  "language_info": {
   "codemirror_mode": {
    "name": "ipython",
    "version": 3
   },
   "file_extension": ".py",
   "mimetype": "text/x-python",
   "name": "python",
   "nbconvert_exporter": "python",
   "pygments_lexer": "ipython3",
   "version": "3.6.3"
  }
 },
 "nbformat": 4,
 "nbformat_minor": 2
}
