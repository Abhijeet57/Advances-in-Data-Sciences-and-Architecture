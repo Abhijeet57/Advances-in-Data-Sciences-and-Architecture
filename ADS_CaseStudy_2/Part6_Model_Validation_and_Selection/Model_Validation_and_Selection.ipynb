{
 "cells": [
  {
   "cell_type": "markdown",
   "metadata": {},
   "source": [
    "# Energy Dataset Model Validation and Selection"
   ]
  },
  {
   "cell_type": "code",
   "execution_count": 1,
   "metadata": {
    "collapsed": true
   },
   "outputs": [],
   "source": [
    "import pandas as pd\n",
    "import numpy as np\n",
    "import seaborn as sns\n",
    "import matplotlib.pyplot as plt\n",
    "from sklearn.model_selection import train_test_split\n",
    "%matplotlib inline"
   ]
  },
  {
   "cell_type": "code",
   "execution_count": 2,
   "metadata": {
    "collapsed": true
   },
   "outputs": [],
   "source": [
    "df_loaded = pd.read_csv(\"../Part3_Feature_Engineering/energydata_complete_transformed.csv\")\n",
    "df = df_loaded"
   ]
  },
  {
   "cell_type": "code",
   "execution_count": 3,
   "metadata": {
    "collapsed": true
   },
   "outputs": [],
   "source": [
    "X = df.drop(['Appliances'],axis=1)\n",
    "y = df['Appliances']\n",
    "\n",
    "X_train, X_test, y_train, y_test = train_test_split(X, y, test_size = 0.2)"
   ]
  },
  {
   "cell_type": "markdown",
   "metadata": {},
   "source": [
    "## First Run of Random Forest Model"
   ]
  },
  {
   "cell_type": "code",
   "execution_count": null,
   "metadata": {
    "collapsed": true
   },
   "outputs": [],
   "source": [
    "from sklearn.ensemble import RandomForestRegressor\n",
    "\n",
    "rf = RandomForestRegressor(n_estimators = 500)\n",
    "rf.fit(X_train, y_train)\n",
    "\n",
    "# Predicting and Calculating the Metrices for Prediction of Testing Dataset\n",
    "prediction_test_rf = rf.predict(X_test)\n",
    "r2_test_rf = r2_score(y_test, prediction_test_rf)\n",
    "rms_test_rf = sqrt(mean_squared_error(y_test, prediction_test_rf))\n",
    "mae_test_rf = mean_absolute_error(y_test,prediction_test_rf)\n",
    "mape_test_rf = np.mean(np.abs((y_test - prediction_test_rf) / y_test)) * 100\n",
    "\n",
    "# Predicting and Calculating the Metrices for Prediction of Training Dataset\n",
    "prediction_train_rf = rf.predict(X_train)\n",
    "r2_train_rf = r2_score(y_train, prediction_train_rf)\n",
    "rms_train_rf = sqrt(mean_squared_error(y_train, prediction_train_rf))\n",
    "mae_train_rf = mean_absolute_error(y_train,prediction_train_rf)\n",
    "mape_train_rf = np.mean(np.abs((y_train - prediction_train_rf) / y_train)) * 100\n",
    "\n",
    "# Printing the training and testing metrices\n",
    "print('Random Forest Model\\n')\n",
    "metrics_df = print_metrics(metrics_df, 'RF_Model', r2_train_rf, rms_train_rf, mae_train_rf, mape_train_rf, r2_test_rf, rms_test_rf, mae_test_rf, mape_test_rf)\n",
    "metrics_df"
   ]
  },
  {
   "cell_type": "markdown",
   "metadata": {},
   "source": [
    "## Model Validation via Cross-Validation"
   ]
  },
  {
   "cell_type": "code",
   "execution_count": null,
   "metadata": {
    "collapsed": true
   },
   "outputs": [],
   "source": []
  }
 ],
 "metadata": {
  "kernelspec": {
   "display_name": "Python 3",
   "language": "python",
   "name": "python3"
  },
  "language_info": {
   "codemirror_mode": {
    "name": "ipython",
    "version": 3
   },
   "file_extension": ".py",
   "mimetype": "text/x-python",
   "name": "python",
   "nbconvert_exporter": "python",
   "pygments_lexer": "ipython3",
   "version": "3.6.3"
  }
 },
 "nbformat": 4,
 "nbformat_minor": 2
}
